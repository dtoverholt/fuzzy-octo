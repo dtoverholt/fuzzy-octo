{
  "nbformat": 4,
  "nbformat_minor": 0,
  "metadata": {
    "colab": {
      "name": "Concepts",
      "provenance": [],
      "authorship_tag": "ABX9TyPKT8/6sStXpszIIG3kbb0p",
      "include_colab_link": true
    },
    "kernelspec": {
      "name": "python3",
      "display_name": "Python 3"
    }
  },
  "cells": [
    {
      "cell_type": "markdown",
      "metadata": {
        "id": "view-in-github",
        "colab_type": "text"
      },
      "source": [
        "<a href=\"https://colab.research.google.com/github/isabellasims/fuzzy-octo/blob/main/Concepts.ipynb\" target=\"_parent\"><img src=\"https://colab.research.google.com/assets/colab-badge.svg\" alt=\"Open In Colab\"/></a>"
      ]
    },
    {
      "cell_type": "markdown",
      "metadata": {
        "id": "Zsd1wzje5UGF"
      },
      "source": [
        "**1. Connect colab to your gitub:** \n",
        "\n",
        "File ---> save a copy to gitub\n",
        "\n",
        "Select the repo name (fuzzy-octo)\n",
        "\n"
      ]
    },
    {
      "cell_type": "markdown",
      "metadata": {
        "id": "Xy-XbSFV5wxq"
      },
      "source": [
        "**Concepts**\n",
        "1. Print statements\n",
        "2. Variables \n",
        "3. Math Operations\n",
        "4. Types + Type Conversion\n",
        "3. "
      ]
    }
  ]
}